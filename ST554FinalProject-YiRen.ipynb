{
 "cells": [
  {
   "cell_type": "markdown",
   "id": "b245e304-5332-40a4-af98-0a440ccd45c3",
   "metadata": {},
   "source": [
    "# Final Project\n",
    "Yi Ren"
   ]
  },
  {
   "cell_type": "markdown",
   "id": "4fcb0640-6e1b-49a6-a665-a3421bfedb3c",
   "metadata": {},
   "source": [
    "## Introduction\n",
    "\n",
    "The data is modified from the [UCI machine learning repository](https://archive.ics.uci.edu/ml/datasets/Power+consumption+of+Tetouan+city). The study was about relating power consumption from different zones of Tetouan city to various factors like time of day, temperature, and humidity.\n",
    "\n",
    "This project contains two parts: modeling part and streaming part:\n",
    "\n",
    "For modeling part, I did some summarization and used pyspark’s MLlib module to set up a pipeline for Elastic Net fit including [PCA](https://statisticsbyjim.com/basics/principal-component-analysis/) transformer. Then I used cross validation to select the best model and evaluate model performace via RMSE metric.\n",
    "\n",
    "For streaming part, I used model transformer to obtain predictions from the incoming data. Then I created second pipeline that would take all the predictor columns from original data with transforamtion. After combining two dataframes, I wrote those out to the console. Finally, I can monitor the prediction on incoming data by randomly sampling three rows and output those to a .csv file in the folder."
   ]
  },
  {
   "cell_type": "markdown",
   "id": "291fcb23-caf9-47df-9740-8dd1af7516f6",
   "metadata": {},
   "source": [
    "## Fitting model part\n",
    "### Data Preparation"
   ]
  },
  {
   "cell_type": "markdown",
   "id": "cc58e53b-652a-46e7-8081-f2412f2b89dd",
   "metadata": {},
   "source": [
    "Read data into a standard pandas data frame"
   ]
  },
  {
   "cell_type": "code",
   "execution_count": 1,
   "id": "53ad3182-f5b7-4ca4-b882-e48b939a357b",
   "metadata": {},
   "outputs": [],
   "source": [
    "import pandas as pd\n",
    "power_ml_data = pd.read_csv(\"power_ml_data.csv\", sep = \",\")"
   ]
  },
  {
   "cell_type": "markdown",
   "id": "c96ce1cb-a660-4776-8a5b-a39c050c8aef",
   "metadata": {},
   "source": [
    "Convert from pandas to pandas-on-Spark"
   ]
  },
  {
   "cell_type": "code",
   "execution_count": 2,
   "id": "6e330005-6f91-4b2a-8450-70bdadf77c98",
   "metadata": {},
   "outputs": [
    {
     "name": "stderr",
     "output_type": "stream",
     "text": [
      "WARNING:root:'PYARROW_IGNORE_TIMEZONE' environment variable was not set. It is required to set this environment variable to '1' in both driver and executor sides if you use pyarrow>=2.0.0. pandas-on-Spark will set it for you but it does not work if there is a Spark context already launched.\n",
      "/usr/local/spark/python/pyspark/pandas/internal.py:1573: FutureWarning: iteritems is deprecated and will be removed in a future version. Use .items instead.\n",
      "  fields = [\n",
      "/usr/local/spark/python/pyspark/sql/pandas/conversion.py:486: FutureWarning: iteritems is deprecated and will be removed in a future version. Use .items instead.\n",
      "  for column, series in pdf.iteritems():\n"
     ]
    }
   ],
   "source": [
    "import pyspark.pandas as ps\n",
    "ps_power_ml = ps.from_pandas(power_ml_data)"
   ]
  },
  {
   "cell_type": "markdown",
   "id": "1559f071-9672-404c-b750-23430ee30a17",
   "metadata": {},
   "source": [
    "Convert to spark SQL dataframe"
   ]
  },
  {
   "cell_type": "code",
   "execution_count": 3,
   "id": "3ad5ded2-3073-453d-9f32-6e5354dbacc1",
   "metadata": {},
   "outputs": [
    {
     "name": "stderr",
     "output_type": "stream",
     "text": [
      "/usr/local/spark/python/pyspark/pandas/utils.py:975: PandasAPIOnSparkAdviceWarning: If `index_col` is not specified for `to_spark`, the existing index is lost when converting to Spark DataFrame.\n",
      "  warnings.warn(message, PandasAPIOnSparkAdviceWarning)\n"
     ]
    },
    {
     "name": "stdout",
     "output_type": "stream",
     "text": [
      "+-----------+--------+----------+---------------------+-------------+------------+------------+------------+-----+----+\n",
      "|Temperature|Humidity|Wind_Speed|General_Diffuse_Flows|Diffuse_Flows|Power_Zone_1|Power_Zone_2|Power_Zone_3|Month|Hour|\n",
      "+-----------+--------+----------+---------------------+-------------+------------+------------+------------+-----+----+\n",
      "|      6.559|    73.8|     0.083|                0.051|        0.119|  34055.6962| 16128.87538| 20240.96386|    1|   0|\n",
      "|      6.414|    74.5|     0.083|                 0.07|        0.085| 29814.68354| 19375.07599| 20131.08434|    1|   0|\n",
      "|      6.313|    74.5|      0.08|                0.062|          0.1| 29128.10127| 19006.68693| 19668.43373|    1|   0|\n",
      "|      6.121|    75.0|     0.083|                0.091|        0.096| 28228.86076| 18361.09422| 18899.27711|    1|   0|\n",
      "|      5.921|    75.7|     0.081|                0.048|        0.085|  27335.6962| 17872.34043| 18442.40964|    1|   0|\n",
      "+-----------+--------+----------+---------------------+-------------+------------+------------+------------+-----+----+\n",
      "only showing top 5 rows\n",
      "\n"
     ]
    }
   ],
   "source": [
    "power_ml = ps_power_ml.to_spark()\n",
    "power_ml.show(5)"
   ]
  },
  {
   "cell_type": "markdown",
   "id": "681b2aac-bbf5-44f5-af52-9f0f32ed6ebc",
   "metadata": {},
   "source": [
    "### Data Summarization\n",
    "#### Find means, standard deviations, min, max, and median values"
   ]
  },
  {
   "cell_type": "code",
   "execution_count": 4,
   "id": "9cf1e25b-5301-47e5-aa4d-d9136179dec7",
   "metadata": {},
   "outputs": [
    {
     "data": {
      "text/html": [
       "<div>\n",
       "<style scoped>\n",
       "    .dataframe tbody tr th:only-of-type {\n",
       "        vertical-align: middle;\n",
       "    }\n",
       "\n",
       "    .dataframe tbody tr th {\n",
       "        vertical-align: top;\n",
       "    }\n",
       "\n",
       "    .dataframe thead th {\n",
       "        text-align: right;\n",
       "    }\n",
       "</style>\n",
       "<table border=\"1\" class=\"dataframe\">\n",
       "  <thead>\n",
       "    <tr style=\"text-align: right;\">\n",
       "      <th></th>\n",
       "      <th>Temperature</th>\n",
       "      <th>Humidity</th>\n",
       "      <th>Wind_Speed</th>\n",
       "      <th>General_Diffuse_Flows</th>\n",
       "      <th>Diffuse_Flows</th>\n",
       "      <th>Power_Zone_1</th>\n",
       "      <th>Power_Zone_2</th>\n",
       "      <th>Power_Zone_3</th>\n",
       "    </tr>\n",
       "  </thead>\n",
       "  <tbody>\n",
       "    <tr>\n",
       "      <th>mean</th>\n",
       "      <td>18.813220</td>\n",
       "      <td>68.288398</td>\n",
       "      <td>1.961621</td>\n",
       "      <td>182.531180</td>\n",
       "      <td>74.987211</td>\n",
       "      <td>32335.168690</td>\n",
       "      <td>21027.204976</td>\n",
       "      <td>17831.197608</td>\n",
       "    </tr>\n",
       "    <tr>\n",
       "      <th>std</th>\n",
       "      <td>5.813341</td>\n",
       "      <td>15.560330</td>\n",
       "      <td>2.349351</td>\n",
       "      <td>264.431856</td>\n",
       "      <td>124.256146</td>\n",
       "      <td>7130.013305</td>\n",
       "      <td>5199.787153</td>\n",
       "      <td>6622.590470</td>\n",
       "    </tr>\n",
       "    <tr>\n",
       "      <th>min</th>\n",
       "      <td>3.247000</td>\n",
       "      <td>11.340000</td>\n",
       "      <td>0.050000</td>\n",
       "      <td>0.004000</td>\n",
       "      <td>0.011000</td>\n",
       "      <td>13895.696200</td>\n",
       "      <td>8560.081466</td>\n",
       "      <td>5935.174070</td>\n",
       "    </tr>\n",
       "    <tr>\n",
       "      <th>50%</th>\n",
       "      <td>18.780000</td>\n",
       "      <td>69.890000</td>\n",
       "      <td>0.086000</td>\n",
       "      <td>4.779000</td>\n",
       "      <td>4.252000</td>\n",
       "      <td>32259.823010</td>\n",
       "      <td>20802.910600</td>\n",
       "      <td>16405.282110</td>\n",
       "    </tr>\n",
       "    <tr>\n",
       "      <th>max</th>\n",
       "      <td>40.010000</td>\n",
       "      <td>94.800000</td>\n",
       "      <td>6.483000</td>\n",
       "      <td>1163.000000</td>\n",
       "      <td>936.000000</td>\n",
       "      <td>52146.859050</td>\n",
       "      <td>37408.860760</td>\n",
       "      <td>47598.326360</td>\n",
       "    </tr>\n",
       "  </tbody>\n",
       "</table>\n",
       "</div>"
      ],
      "text/plain": [
       "      Temperature   Humidity  Wind_Speed  General_Diffuse_Flows  Diffuse_Flows  Power_Zone_1  Power_Zone_2  Power_Zone_3\n",
       "mean    18.813220  68.288398    1.961621             182.531180      74.987211  32335.168690  21027.204976  17831.197608\n",
       "std      5.813341  15.560330    2.349351             264.431856     124.256146   7130.013305   5199.787153   6622.590470\n",
       "min      3.247000  11.340000    0.050000               0.004000       0.011000  13895.696200   8560.081466   5935.174070\n",
       "50%     18.780000  69.890000    0.086000               4.779000       4.252000  32259.823010  20802.910600  16405.282110\n",
       "max     40.010000  94.800000    6.483000            1163.000000     936.000000  52146.859050  37408.860760  47598.326360"
      ]
     },
     "execution_count": 4,
     "metadata": {},
     "output_type": "execute_result"
    }
   ],
   "source": [
    "ps_power_ml.loc[:, ~ps_power_ml.columns.isin([\"Month\", \"Hour\"])] \\\n",
    "           .describe() \\\n",
    "           .loc[[\"mean\", \"std\", \"min\", \"max\", \"50%\"]]"
   ]
  },
  {
   "cell_type": "markdown",
   "id": "7b59746f-3848-42b3-81a0-e5d1f595b920",
   "metadata": {},
   "source": [
    "- From the numeric summary, we can observe that except humidity, all the other variables are right skewed.   \n",
    "\n",
    "- Comparing with temperature, humidity and wind speed, general diffuse flows and diffuse flows have the most spread in the distributions.   \n",
    "\n",
    "- As for 3 power zones, zone 1 has the widest range with highest variance. While zone 2 has the narroest range and zone 3 has the lowest variance. "
   ]
  },
  {
   "cell_type": "markdown",
   "id": "16179f5e-03a0-4f7c-b62c-29fdcaa29e8b",
   "metadata": {},
   "source": [
    "#### Find the correlations between all variables except Month and Hour"
   ]
  },
  {
   "cell_type": "code",
   "execution_count": 5,
   "id": "e7d42c95-f750-4ac1-b1a7-d851067aa862",
   "metadata": {},
   "outputs": [
    {
     "name": "stderr",
     "output_type": "stream",
     "text": [
      "/usr/local/spark/python/pyspark/pandas/internal.py:1573: FutureWarning: iteritems is deprecated and will be removed in a future version. Use .items instead.\n",
      "  fields = [\n",
      "/usr/local/spark/python/pyspark/sql/pandas/conversion.py:486: FutureWarning: iteritems is deprecated and will be removed in a future version. Use .items instead.\n",
      "  for column, series in pdf.iteritems():\n"
     ]
    },
    {
     "data": {
      "text/html": [
       "<div>\n",
       "<style scoped>\n",
       "    .dataframe tbody tr th:only-of-type {\n",
       "        vertical-align: middle;\n",
       "    }\n",
       "\n",
       "    .dataframe tbody tr th {\n",
       "        vertical-align: top;\n",
       "    }\n",
       "\n",
       "    .dataframe thead th {\n",
       "        text-align: right;\n",
       "    }\n",
       "</style>\n",
       "<table border=\"1\" class=\"dataframe\">\n",
       "  <thead>\n",
       "    <tr style=\"text-align: right;\">\n",
       "      <th></th>\n",
       "      <th>Temperature</th>\n",
       "      <th>Humidity</th>\n",
       "      <th>Wind_Speed</th>\n",
       "      <th>General_Diffuse_Flows</th>\n",
       "      <th>Diffuse_Flows</th>\n",
       "      <th>Power_Zone_1</th>\n",
       "      <th>Power_Zone_2</th>\n",
       "      <th>Power_Zone_3</th>\n",
       "    </tr>\n",
       "  </thead>\n",
       "  <tbody>\n",
       "    <tr>\n",
       "      <th>Temperature</th>\n",
       "      <td>1.000000</td>\n",
       "      <td>-0.460143</td>\n",
       "      <td>0.476421</td>\n",
       "      <td>0.459602</td>\n",
       "      <td>0.195625</td>\n",
       "      <td>0.441446</td>\n",
       "      <td>0.384301</td>\n",
       "      <td>0.490752</td>\n",
       "    </tr>\n",
       "    <tr>\n",
       "      <th>Humidity</th>\n",
       "      <td>-0.460143</td>\n",
       "      <td>1.000000</td>\n",
       "      <td>-0.136121</td>\n",
       "      <td>-0.467282</td>\n",
       "      <td>-0.258042</td>\n",
       "      <td>-0.289090</td>\n",
       "      <td>-0.297019</td>\n",
       "      <td>-0.234228</td>\n",
       "    </tr>\n",
       "    <tr>\n",
       "      <th>Wind_Speed</th>\n",
       "      <td>0.476421</td>\n",
       "      <td>-0.136121</td>\n",
       "      <td>1.000000</td>\n",
       "      <td>0.132304</td>\n",
       "      <td>-0.000727</td>\n",
       "      <td>0.166322</td>\n",
       "      <td>0.146338</td>\n",
       "      <td>0.279112</td>\n",
       "    </tr>\n",
       "    <tr>\n",
       "      <th>General_Diffuse_Flows</th>\n",
       "      <td>0.459602</td>\n",
       "      <td>-0.467282</td>\n",
       "      <td>0.132304</td>\n",
       "      <td>1.000000</td>\n",
       "      <td>0.564530</td>\n",
       "      <td>0.189994</td>\n",
       "      <td>0.158798</td>\n",
       "      <td>0.064942</td>\n",
       "    </tr>\n",
       "    <tr>\n",
       "      <th>Diffuse_Flows</th>\n",
       "      <td>0.195625</td>\n",
       "      <td>-0.258042</td>\n",
       "      <td>-0.000727</td>\n",
       "      <td>0.564530</td>\n",
       "      <td>1.000000</td>\n",
       "      <td>0.082885</td>\n",
       "      <td>0.047379</td>\n",
       "      <td>-0.036761</td>\n",
       "    </tr>\n",
       "    <tr>\n",
       "      <th>Power_Zone_1</th>\n",
       "      <td>0.441446</td>\n",
       "      <td>-0.289090</td>\n",
       "      <td>0.166322</td>\n",
       "      <td>0.189994</td>\n",
       "      <td>0.082885</td>\n",
       "      <td>1.000000</td>\n",
       "      <td>0.834694</td>\n",
       "      <td>0.750656</td>\n",
       "    </tr>\n",
       "    <tr>\n",
       "      <th>Power_Zone_2</th>\n",
       "      <td>0.384301</td>\n",
       "      <td>-0.297019</td>\n",
       "      <td>0.146338</td>\n",
       "      <td>0.158798</td>\n",
       "      <td>0.047379</td>\n",
       "      <td>0.834694</td>\n",
       "      <td>1.000000</td>\n",
       "      <td>0.572344</td>\n",
       "    </tr>\n",
       "    <tr>\n",
       "      <th>Power_Zone_3</th>\n",
       "      <td>0.490752</td>\n",
       "      <td>-0.234228</td>\n",
       "      <td>0.279112</td>\n",
       "      <td>0.064942</td>\n",
       "      <td>-0.036761</td>\n",
       "      <td>0.750656</td>\n",
       "      <td>0.572344</td>\n",
       "      <td>1.000000</td>\n",
       "    </tr>\n",
       "  </tbody>\n",
       "</table>\n",
       "</div>"
      ],
      "text/plain": [
       "                       Temperature  Humidity  Wind_Speed  General_Diffuse_Flows  Diffuse_Flows  Power_Zone_1  Power_Zone_2  Power_Zone_3\n",
       "Temperature               1.000000 -0.460143    0.476421               0.459602       0.195625      0.441446      0.384301      0.490752\n",
       "Humidity                 -0.460143  1.000000   -0.136121              -0.467282      -0.258042     -0.289090     -0.297019     -0.234228\n",
       "Wind_Speed                0.476421 -0.136121    1.000000               0.132304      -0.000727      0.166322      0.146338      0.279112\n",
       "General_Diffuse_Flows     0.459602 -0.467282    0.132304               1.000000       0.564530      0.189994      0.158798      0.064942\n",
       "Diffuse_Flows             0.195625 -0.258042   -0.000727               0.564530       1.000000      0.082885      0.047379     -0.036761\n",
       "Power_Zone_1              0.441446 -0.289090    0.166322               0.189994       0.082885      1.000000      0.834694      0.750656\n",
       "Power_Zone_2              0.384301 -0.297019    0.146338               0.158798       0.047379      0.834694      1.000000      0.572344\n",
       "Power_Zone_3              0.490752 -0.234228    0.279112               0.064942      -0.036761      0.750656      0.572344      1.000000"
      ]
     },
     "execution_count": 5,
     "metadata": {},
     "output_type": "execute_result"
    }
   ],
   "source": [
    "ps_power_ml.loc[:, ~ps_power_ml.columns.isin([\"Month\", \"Hour\"])] \\\n",
    "           .corr()"
   ]
  },
  {
   "cell_type": "markdown",
   "id": "3a83a7e1-7a0f-4981-97d7-35c40a4d9981",
   "metadata": {},
   "source": [
    "- From the correlation matrix, we observed the power zone 1 vs. zone 2 has very strong positive correlation (> 0.8). And zone 1 vs. zone 3 has strong positive correaltion (> 0.6). In the contrast, neither general diffuse flows nor diffuse flows is correalted to power zones (< 0.19).\n",
    "\n",
    "- Highly correlated predictors can lead to collinearity issues and this can greatly increase the model variance, especially in the context of regression. In some cases, there could be relationships between multiple predictor variables and this is called multicollinearity.\n",
    "\n",
    "- Two highly correlated variables can have nearly the same ability to predict the outcome value for an observation, which will affect the interpretability.  "
   ]
  },
  {
   "cell_type": "markdown",
   "id": "d5917eaf-52f8-4d58-86eb-823043101489",
   "metadata": {},
   "source": [
    "#### One-way contingency table\n",
    "##### of the Month variable"
   ]
  },
  {
   "cell_type": "code",
   "execution_count": 8,
   "id": "f7d2ff20-ff72-49bd-8d89-2c6586005722",
   "metadata": {},
   "outputs": [
    {
     "data": {
      "text/plain": [
       "3     4057\n",
       "7     4029\n",
       "10    4026\n",
       "1     4014\n",
       "8     3999\n",
       "5     3997\n",
       "9     3913\n",
       "6     3913\n",
       "4     3893\n",
       "11    3877\n",
       "12    3868\n",
       "2     3588\n",
       "Name: Month, dtype: int64"
      ]
     },
     "execution_count": 8,
     "metadata": {},
     "output_type": "execute_result"
    }
   ],
   "source": [
    "ps_power_ml[\"Month\"].value_counts()"
   ]
  },
  {
   "cell_type": "markdown",
   "id": "299d4248-cb8a-4a6b-87fb-ae15f4fb8b97",
   "metadata": {},
   "source": [
    "From the table, March has the highest counts while Februray has the least counts among all 12 month."
   ]
  },
  {
   "cell_type": "markdown",
   "id": "a740e64c-572c-489a-ae04-9139e0efdb0d",
   "metadata": {},
   "source": [
    "##### of the Hour variable"
   ]
  },
  {
   "cell_type": "code",
   "execution_count": 9,
   "id": "df2ef718-5031-4f89-87ec-0561bae3c371",
   "metadata": {},
   "outputs": [
    {
     "data": {
      "text/plain": [
       "6     1992\n",
       "4     1986\n",
       "17    1979\n",
       "12    1979\n",
       "9     1976\n",
       "21    1976\n",
       "2     1973\n",
       "1     1973\n",
       "11    1972\n",
       "14    1971\n",
       "23    1968\n",
       "5     1968\n",
       "22    1966\n",
       "3     1966\n",
       "7     1964\n",
       "8     1957\n",
       "13    1956\n",
       "18    1955\n",
       "10    1955\n",
       "19    1950\n",
       "0     1950\n",
       "16    1950\n",
       "15    1947\n",
       "20    1945\n",
       "Name: Hour, dtype: int64"
      ]
     },
     "execution_count": 9,
     "metadata": {},
     "output_type": "execute_result"
    }
   ],
   "source": [
    "ps_power_ml[\"Hour\"].value_counts()"
   ]
  },
  {
   "cell_type": "markdown",
   "id": "51b03c98-9365-4b5a-9fbc-41aefa54177a",
   "metadata": {},
   "source": [
    "From the table, 6am has the highest counts while 8pm has the least counts among all 24 hours."
   ]
  },
  {
   "cell_type": "markdown",
   "id": "55ea251c-747d-4c53-806c-d7ef55ed6b5b",
   "metadata": {},
   "source": [
    "#### Two-way contingency table for the Month and Hour variables"
   ]
  },
  {
   "cell_type": "code",
   "execution_count": 10,
   "id": "384c1d1d-b3cd-400d-92e8-fdd17db6ddf5",
   "metadata": {},
   "outputs": [
    {
     "name": "stdout",
     "output_type": "stream",
     "text": [
      "+----------+---+---+---+---+---+---+---+---+---+---+---+---+---+---+---+---+---+---+---+---+---+---+---+---+\n",
      "|Month_Hour|  0|  1| 10| 11| 12| 13| 14| 15| 16| 17| 18| 19|  2| 20| 21| 22| 23|  3|  4|  5|  6|  7|  8|  9|\n",
      "+----------+---+---+---+---+---+---+---+---+---+---+---+---+---+---+---+---+---+---+---+---+---+---+---+---+\n",
      "|         5|164|166|172|159|175|166|159|172|167|171|162|160|163|165|174|161|162|171|174|164|172|163|167|168|\n",
      "|        10|171|168|163|171|166|161|175|165|159|176|165|162|175|170|173|169|167|172|162|163|170|164|168|171|\n",
      "|         1|161|165|164|174|170|165|167|163|169|170|168|162|168|172|166|166|165|162|167|168|168|168|172|174|\n",
      "|         6|160|164|159|169|155|167|162|158|161|161|165|162|169|159|156|167|166|165|167|167|163|167|160|164|\n",
      "|         9|164|161|159|161|174|159|162|168|166|169|162|163|160|158|163|163|167|164|167|158|162|159|162|162|\n",
      "|         2|142|151|145|141|155|154|153|146|153|152|144|148|147|149|151|151|145|148|156|147|157|153|147|153|\n",
      "|        12|154|159|165|167|164|156|168|157|158|153|159|160|167|158|159|168|156|167|164|164|165|165|156|159|\n",
      "|         7|172|169|167|168|166|173|169|162|164|172|176|172|161|159|163|173|167|170|167|174|168|164|165|168|\n",
      "|         3|174|171|175|168|166|173|165|171|166|163|165|170|167|168|175|165|172|168|166|170|173|170|166|170|\n",
      "|        11|159|168|160|160|156|158|162|163|157|166|165|160|168|161|162|159|164|154|165|153|162|167|164|164|\n",
      "|         8|168|169|162|171|167|167|164|166|168|165|169|168|171|165|169|164|173|165|168|171|165|162|165|157|\n",
      "|         4|161|162|164|163|165|157|165|156|162|161|155|163|157|161|165|160|164|160|163|169|167|162|165|166|\n",
      "+----------+---+---+---+---+---+---+---+---+---+---+---+---+---+---+---+---+---+---+---+---+---+---+---+---+\n",
      "\n"
     ]
    }
   ],
   "source": [
    "power_ml.crosstab(\"Month\", \"Hour\").show()"
   ]
  },
  {
   "cell_type": "markdown",
   "id": "0f3a1f42-dc67-47ba-a708-b7a3953a1a22",
   "metadata": {},
   "source": [
    "From the two-way contingency table, July at 6pm has the highest counts, which is 176. While Feburary at 11am has the lowest counts."
   ]
  },
  {
   "cell_type": "markdown",
   "id": "ac3fdb99-177f-4de0-941a-546843c71cd1",
   "metadata": {},
   "source": [
    "#### Group the data by Month and find the means of the numeric variables"
   ]
  },
  {
   "cell_type": "code",
   "execution_count": 6,
   "id": "ab8a30b6-64bb-443f-ae95-d4e52ef8cbe8",
   "metadata": {},
   "outputs": [
    {
     "data": {
      "text/html": [
       "<div>\n",
       "<style scoped>\n",
       "    .dataframe tbody tr th:only-of-type {\n",
       "        vertical-align: middle;\n",
       "    }\n",
       "\n",
       "    .dataframe tbody tr th {\n",
       "        vertical-align: top;\n",
       "    }\n",
       "\n",
       "    .dataframe thead th {\n",
       "        text-align: right;\n",
       "    }\n",
       "</style>\n",
       "<table border=\"1\" class=\"dataframe\">\n",
       "  <thead>\n",
       "    <tr style=\"text-align: right;\">\n",
       "      <th></th>\n",
       "      <th>Temperature</th>\n",
       "      <th>Humidity</th>\n",
       "      <th>Wind_Speed</th>\n",
       "      <th>General_Diffuse_Flows</th>\n",
       "      <th>Diffuse_Flows</th>\n",
       "      <th>Power_Zone_1</th>\n",
       "      <th>Power_Zone_2</th>\n",
       "      <th>Power_Zone_3</th>\n",
       "    </tr>\n",
       "    <tr>\n",
       "      <th>Month</th>\n",
       "      <th></th>\n",
       "      <th></th>\n",
       "      <th></th>\n",
       "      <th></th>\n",
       "      <th></th>\n",
       "      <th></th>\n",
       "      <th></th>\n",
       "      <th></th>\n",
       "    </tr>\n",
       "  </thead>\n",
       "  <tbody>\n",
       "    <tr>\n",
       "      <th>1</th>\n",
       "      <td>12.734699</td>\n",
       "      <td>68.258548</td>\n",
       "      <td>0.702223</td>\n",
       "      <td>103.959658</td>\n",
       "      <td>69.798826</td>\n",
       "      <td>31052.984428</td>\n",
       "      <td>19407.916366</td>\n",
       "      <td>17736.351685</td>\n",
       "    </tr>\n",
       "    <tr>\n",
       "      <th>3</th>\n",
       "      <td>14.584055</td>\n",
       "      <td>71.115884</td>\n",
       "      <td>1.006017</td>\n",
       "      <td>181.401719</td>\n",
       "      <td>93.155905</td>\n",
       "      <td>31162.869031</td>\n",
       "      <td>18459.612113</td>\n",
       "      <td>16945.462800</td>\n",
       "    </tr>\n",
       "    <tr>\n",
       "      <th>2</th>\n",
       "      <td>12.656535</td>\n",
       "      <td>66.490925</td>\n",
       "      <td>1.113977</td>\n",
       "      <td>125.471135</td>\n",
       "      <td>92.330615</td>\n",
       "      <td>30973.863160</td>\n",
       "      <td>18774.586006</td>\n",
       "      <td>17309.707870</td>\n",
       "    </tr>\n",
       "    <tr>\n",
       "      <th>7</th>\n",
       "      <td>27.200593</td>\n",
       "      <td>57.599484</td>\n",
       "      <td>4.641782</td>\n",
       "      <td>294.112037</td>\n",
       "      <td>75.410538</td>\n",
       "      <td>35805.530436</td>\n",
       "      <td>24130.028182</td>\n",
       "      <td>28175.034099</td>\n",
       "    </tr>\n",
       "    <tr>\n",
       "      <th>6</th>\n",
       "      <td>22.132706</td>\n",
       "      <td>68.761260</td>\n",
       "      <td>1.561346</td>\n",
       "      <td>277.434533</td>\n",
       "      <td>103.227789</td>\n",
       "      <td>34573.227026</td>\n",
       "      <td>20649.034590</td>\n",
       "      <td>20416.130091</td>\n",
       "    </tr>\n",
       "    <tr>\n",
       "      <th>5</th>\n",
       "      <td>20.301401</td>\n",
       "      <td>68.609322</td>\n",
       "      <td>2.307473</td>\n",
       "      <td>274.500026</td>\n",
       "      <td>122.765576</td>\n",
       "      <td>32379.460464</td>\n",
       "      <td>19973.085387</td>\n",
       "      <td>17604.282564</td>\n",
       "    </tr>\n",
       "    <tr>\n",
       "      <th>4</th>\n",
       "      <td>16.414755</td>\n",
       "      <td>75.408176</td>\n",
       "      <td>0.222990</td>\n",
       "      <td>157.722243</td>\n",
       "      <td>83.494537</td>\n",
       "      <td>31143.206766</td>\n",
       "      <td>17600.306571</td>\n",
       "      <td>18574.918338</td>\n",
       "    </tr>\n",
       "    <tr>\n",
       "      <th>9</th>\n",
       "      <td>22.640565</td>\n",
       "      <td>66.868306</td>\n",
       "      <td>2.947096</td>\n",
       "      <td>202.201634</td>\n",
       "      <td>49.070622</td>\n",
       "      <td>33415.103456</td>\n",
       "      <td>20189.459837</td>\n",
       "      <td>14928.415530</td>\n",
       "    </tr>\n",
       "    <tr>\n",
       "      <th>10</th>\n",
       "      <td>20.476249</td>\n",
       "      <td>71.524016</td>\n",
       "      <td>2.784221</td>\n",
       "      <td>115.814556</td>\n",
       "      <td>46.628719</td>\n",
       "      <td>32806.992796</td>\n",
       "      <td>21457.890001</td>\n",
       "      <td>13266.437337</td>\n",
       "    </tr>\n",
       "    <tr>\n",
       "      <th>8</th>\n",
       "      <td>25.740415</td>\n",
       "      <td>66.022621</td>\n",
       "      <td>4.533251</td>\n",
       "      <td>227.178635</td>\n",
       "      <td>67.105847</td>\n",
       "      <td>36436.261651</td>\n",
       "      <td>24657.024552</td>\n",
       "      <td>24684.368961</td>\n",
       "    </tr>\n",
       "    <tr>\n",
       "      <th>12</th>\n",
       "      <td>13.283378</td>\n",
       "      <td>69.237386</td>\n",
       "      <td>0.255324</td>\n",
       "      <td>100.023251</td>\n",
       "      <td>34.305382</td>\n",
       "      <td>28959.102866</td>\n",
       "      <td>23618.564516</td>\n",
       "      <td>11017.120312</td>\n",
       "    </tr>\n",
       "    <tr>\n",
       "      <th>11</th>\n",
       "      <td>16.819408</td>\n",
       "      <td>69.638342</td>\n",
       "      <td>1.258902</td>\n",
       "      <td>121.915119</td>\n",
       "      <td>62.876133</td>\n",
       "      <td>28993.342196</td>\n",
       "      <td>23229.117470</td>\n",
       "      <td>12867.073100</td>\n",
       "    </tr>\n",
       "  </tbody>\n",
       "</table>\n",
       "</div>"
      ],
      "text/plain": [
       "       Temperature   Humidity  Wind_Speed  General_Diffuse_Flows  Diffuse_Flows  Power_Zone_1  Power_Zone_2  Power_Zone_3\n",
       "Month                                                                                                                    \n",
       "1        12.734699  68.258548    0.702223             103.959658      69.798826  31052.984428  19407.916366  17736.351685\n",
       "3        14.584055  71.115884    1.006017             181.401719      93.155905  31162.869031  18459.612113  16945.462800\n",
       "2        12.656535  66.490925    1.113977             125.471135      92.330615  30973.863160  18774.586006  17309.707870\n",
       "7        27.200593  57.599484    4.641782             294.112037      75.410538  35805.530436  24130.028182  28175.034099\n",
       "6        22.132706  68.761260    1.561346             277.434533     103.227789  34573.227026  20649.034590  20416.130091\n",
       "5        20.301401  68.609322    2.307473             274.500026     122.765576  32379.460464  19973.085387  17604.282564\n",
       "4        16.414755  75.408176    0.222990             157.722243      83.494537  31143.206766  17600.306571  18574.918338\n",
       "9        22.640565  66.868306    2.947096             202.201634      49.070622  33415.103456  20189.459837  14928.415530\n",
       "10       20.476249  71.524016    2.784221             115.814556      46.628719  32806.992796  21457.890001  13266.437337\n",
       "8        25.740415  66.022621    4.533251             227.178635      67.105847  36436.261651  24657.024552  24684.368961\n",
       "12       13.283378  69.237386    0.255324             100.023251      34.305382  28959.102866  23618.564516  11017.120312\n",
       "11       16.819408  69.638342    1.258902             121.915119      62.876133  28993.342196  23229.117470  12867.073100"
      ]
     },
     "execution_count": 6,
     "metadata": {},
     "output_type": "execute_result"
    }
   ],
   "source": [
    "ps_power_ml.loc[:, ps_power_ml.columns != \"Hour\"] \\\n",
    "           .groupby(\"Month\") \\\n",
    "           .mean()"
   ]
  },
  {
   "cell_type": "markdown",
   "id": "40e80faf-7b03-4ed0-b8b6-171ee2438123",
   "metadata": {},
   "source": [
    "- July has the greatest average value for temperature and the greatest general diffuse flows.\n",
    "\n",
    "- April has the greatest average value for humidity and least average value for wind speed.\n",
    "\n",
    "- May has the least average value for diffuse flows. While December has the least diffuse flows.\n",
    "\n",
    "- May has the greatest average value for wind speed.   \n",
    "\n",
    "- Auguest has the greatest average value for power consumption for zone 1 and zone 2.  \n",
    "\n",
    "- July has the greatest average value for power consumption for zone 3.  "
   ]
  },
  {
   "cell_type": "markdown",
   "id": "25f5f439-5744-4de0-9b56-883e8f329fc1",
   "metadata": {},
   "source": [
    "#### Group the data by Month and find the standard deviations of the numeric variables"
   ]
  },
  {
   "cell_type": "code",
   "execution_count": 7,
   "id": "96bf9b04-b976-4d8f-ba6c-32d2ccf4f814",
   "metadata": {},
   "outputs": [
    {
     "data": {
      "text/html": [
       "<div>\n",
       "<style scoped>\n",
       "    .dataframe tbody tr th:only-of-type {\n",
       "        vertical-align: middle;\n",
       "    }\n",
       "\n",
       "    .dataframe tbody tr th {\n",
       "        vertical-align: top;\n",
       "    }\n",
       "\n",
       "    .dataframe thead th {\n",
       "        text-align: right;\n",
       "    }\n",
       "</style>\n",
       "<table border=\"1\" class=\"dataframe\">\n",
       "  <thead>\n",
       "    <tr style=\"text-align: right;\">\n",
       "      <th></th>\n",
       "      <th>Temperature</th>\n",
       "      <th>Humidity</th>\n",
       "      <th>Wind_Speed</th>\n",
       "      <th>General_Diffuse_Flows</th>\n",
       "      <th>Diffuse_Flows</th>\n",
       "      <th>Power_Zone_1</th>\n",
       "      <th>Power_Zone_2</th>\n",
       "      <th>Power_Zone_3</th>\n",
       "    </tr>\n",
       "    <tr>\n",
       "      <th>Month</th>\n",
       "      <th></th>\n",
       "      <th></th>\n",
       "      <th></th>\n",
       "      <th></th>\n",
       "      <th></th>\n",
       "      <th></th>\n",
       "      <th></th>\n",
       "      <th></th>\n",
       "    </tr>\n",
       "  </thead>\n",
       "  <tbody>\n",
       "    <tr>\n",
       "      <th>1</th>\n",
       "      <td>3.240635</td>\n",
       "      <td>12.156170</td>\n",
       "      <td>1.611795</td>\n",
       "      <td>166.164710</td>\n",
       "      <td>131.459172</td>\n",
       "      <td>7402.323411</td>\n",
       "      <td>4515.295696</td>\n",
       "      <td>4436.997405</td>\n",
       "    </tr>\n",
       "    <tr>\n",
       "      <th>3</th>\n",
       "      <td>3.758852</td>\n",
       "      <td>13.918146</td>\n",
       "      <td>1.900982</td>\n",
       "      <td>260.148889</td>\n",
       "      <td>151.167923</td>\n",
       "      <td>6782.136539</td>\n",
       "      <td>4185.117595</td>\n",
       "      <td>4256.765546</td>\n",
       "    </tr>\n",
       "    <tr>\n",
       "      <th>2</th>\n",
       "      <td>2.619715</td>\n",
       "      <td>12.411942</td>\n",
       "      <td>1.981157</td>\n",
       "      <td>206.730180</td>\n",
       "      <td>169.155517</td>\n",
       "      <td>6874.584791</td>\n",
       "      <td>4390.391101</td>\n",
       "      <td>4353.975946</td>\n",
       "    </tr>\n",
       "    <tr>\n",
       "      <th>7</th>\n",
       "      <td>3.856707</td>\n",
       "      <td>18.849986</td>\n",
       "      <td>1.110539</td>\n",
       "      <td>331.733608</td>\n",
       "      <td>95.044517</td>\n",
       "      <td>6966.074191</td>\n",
       "      <td>4968.511101</td>\n",
       "      <td>6913.958361</td>\n",
       "    </tr>\n",
       "    <tr>\n",
       "      <th>6</th>\n",
       "      <td>2.689724</td>\n",
       "      <td>14.972905</td>\n",
       "      <td>2.235411</td>\n",
       "      <td>328.277210</td>\n",
       "      <td>143.497896</td>\n",
       "      <td>7317.808097</td>\n",
       "      <td>4465.664309</td>\n",
       "      <td>5596.702926</td>\n",
       "    </tr>\n",
       "    <tr>\n",
       "      <th>5</th>\n",
       "      <td>3.299952</td>\n",
       "      <td>16.436023</td>\n",
       "      <td>2.408328</td>\n",
       "      <td>331.998897</td>\n",
       "      <td>171.585943</td>\n",
       "      <td>6809.332811</td>\n",
       "      <td>4182.543672</td>\n",
       "      <td>4353.394234</td>\n",
       "    </tr>\n",
       "    <tr>\n",
       "      <th>4</th>\n",
       "      <td>2.806221</td>\n",
       "      <td>14.312655</td>\n",
       "      <td>0.820343</td>\n",
       "      <td>246.173501</td>\n",
       "      <td>123.912352</td>\n",
       "      <td>6496.700167</td>\n",
       "      <td>3835.629384</td>\n",
       "      <td>4556.263192</td>\n",
       "    </tr>\n",
       "    <tr>\n",
       "      <th>9</th>\n",
       "      <td>2.877585</td>\n",
       "      <td>15.992826</td>\n",
       "      <td>2.293412</td>\n",
       "      <td>270.172564</td>\n",
       "      <td>67.523539</td>\n",
       "      <td>6471.366900</td>\n",
       "      <td>4205.504219</td>\n",
       "      <td>3425.856320</td>\n",
       "    </tr>\n",
       "    <tr>\n",
       "      <th>10</th>\n",
       "      <td>2.987293</td>\n",
       "      <td>13.980791</td>\n",
       "      <td>2.398703</td>\n",
       "      <td>185.043298</td>\n",
       "      <td>69.421308</td>\n",
       "      <td>6479.133482</td>\n",
       "      <td>4612.671175</td>\n",
       "      <td>3087.805818</td>\n",
       "    </tr>\n",
       "    <tr>\n",
       "      <th>8</th>\n",
       "      <td>2.949887</td>\n",
       "      <td>18.482551</td>\n",
       "      <td>1.300900</td>\n",
       "      <td>289.906192</td>\n",
       "      <td>90.662540</td>\n",
       "      <td>7054.722275</td>\n",
       "      <td>5163.442765</td>\n",
       "      <td>6520.955955</td>\n",
       "    </tr>\n",
       "    <tr>\n",
       "      <th>12</th>\n",
       "      <td>3.348619</td>\n",
       "      <td>13.739463</td>\n",
       "      <td>0.893755</td>\n",
       "      <td>161.702441</td>\n",
       "      <td>56.393569</td>\n",
       "      <td>6176.465110</td>\n",
       "      <td>5713.467069</td>\n",
       "      <td>2840.343209</td>\n",
       "    </tr>\n",
       "    <tr>\n",
       "      <th>11</th>\n",
       "      <td>3.683225</td>\n",
       "      <td>12.832011</td>\n",
       "      <td>2.075377</td>\n",
       "      <td>184.692025</td>\n",
       "      <td>123.141505</td>\n",
       "      <td>5918.582563</td>\n",
       "      <td>5452.892158</td>\n",
       "      <td>3509.671954</td>\n",
       "    </tr>\n",
       "  </tbody>\n",
       "</table>\n",
       "</div>"
      ],
      "text/plain": [
       "       Temperature   Humidity  Wind_Speed  General_Diffuse_Flows  Diffuse_Flows  Power_Zone_1  Power_Zone_2  Power_Zone_3\n",
       "Month                                                                                                                    \n",
       "1         3.240635  12.156170    1.611795             166.164710     131.459172   7402.323411   4515.295696   4436.997405\n",
       "3         3.758852  13.918146    1.900982             260.148889     151.167923   6782.136539   4185.117595   4256.765546\n",
       "2         2.619715  12.411942    1.981157             206.730180     169.155517   6874.584791   4390.391101   4353.975946\n",
       "7         3.856707  18.849986    1.110539             331.733608      95.044517   6966.074191   4968.511101   6913.958361\n",
       "6         2.689724  14.972905    2.235411             328.277210     143.497896   7317.808097   4465.664309   5596.702926\n",
       "5         3.299952  16.436023    2.408328             331.998897     171.585943   6809.332811   4182.543672   4353.394234\n",
       "4         2.806221  14.312655    0.820343             246.173501     123.912352   6496.700167   3835.629384   4556.263192\n",
       "9         2.877585  15.992826    2.293412             270.172564      67.523539   6471.366900   4205.504219   3425.856320\n",
       "10        2.987293  13.980791    2.398703             185.043298      69.421308   6479.133482   4612.671175   3087.805818\n",
       "8         2.949887  18.482551    1.300900             289.906192      90.662540   7054.722275   5163.442765   6520.955955\n",
       "12        3.348619  13.739463    0.893755             161.702441      56.393569   6176.465110   5713.467069   2840.343209\n",
       "11        3.683225  12.832011    2.075377             184.692025     123.141505   5918.582563   5452.892158   3509.671954"
      ]
     },
     "execution_count": 7,
     "metadata": {},
     "output_type": "execute_result"
    }
   ],
   "source": [
    "ps_power_ml.loc[:, ps_power_ml.columns != \"Hour\"] \\\n",
    "           .groupby(\"Month\").std()"
   ]
  },
  {
   "cell_type": "markdown",
   "id": "5bd6f8a6-f524-4bfb-9770-3a958a990278",
   "metadata": {},
   "source": [
    "- July has the greatest standard deviation for temperature, humidity, general diffuse flows and of course diffuse flows.  \n",
    "- May has the greatest standard deviaion for wind speed.   \n",
    "- Janurary has the greatest standard deviation for power consumption for zone 1.  \n",
    "- December has the greatest standard deviation for power consumption for zone 2.   \n",
    "- July has the greatest standard deviation for power consumption for zone 3.  "
   ]
  },
  {
   "cell_type": "markdown",
   "id": "53737b9d-6566-4c52-a5fc-afc4e553ac45",
   "metadata": {},
   "source": [
    "#### Cast Hour as a DoubleType"
   ]
  },
  {
   "cell_type": "code",
   "execution_count": 10,
   "id": "14c6d820-ee33-4117-a3c6-7d36e0bc01e0",
   "metadata": {},
   "outputs": [
    {
     "name": "stdout",
     "output_type": "stream",
     "text": [
      "root\n",
      " |-- Temperature: double (nullable = false)\n",
      " |-- Humidity: double (nullable = false)\n",
      " |-- Wind_Speed: double (nullable = false)\n",
      " |-- General_Diffuse_Flows: double (nullable = false)\n",
      " |-- Diffuse_Flows: double (nullable = false)\n",
      " |-- Power_Zone_1: double (nullable = false)\n",
      " |-- Power_Zone_2: double (nullable = false)\n",
      " |-- Power_Zone_3: double (nullable = false)\n",
      " |-- Month: long (nullable = false)\n",
      " |-- Hour: double (nullable = false)\n",
      "\n"
     ]
    }
   ],
   "source": [
    "power_ml = power_ml.withColumn(\"Hour\",power_ml.Hour.cast('double'))\n",
    "power_ml.printSchema()"
   ]
  },
  {
   "cell_type": "markdown",
   "id": "1ddf0934-0e3a-4575-8a8c-70732140bb7f",
   "metadata": {},
   "source": [
    "### MLlib functions to set up pipeline for Elastic Net fit "
   ]
  },
  {
   "cell_type": "markdown",
   "id": "feaaa550-d054-413b-967e-69e9d3e47e94",
   "metadata": {},
   "source": [
    "One-hot encode the Month column"
   ]
  },
  {
   "cell_type": "code",
   "execution_count": 8,
   "id": "3f93ec6a-b6bf-46e1-aa29-ff9e463eee04",
   "metadata": {},
   "outputs": [
    {
     "data": {
      "text/plain": [
       "DataFrame[Temperature: double, Humidity: double, Wind_Speed: double, General_Diffuse_Flows: double, Diffuse_Flows: double, Power_Zone_1: double, Power_Zone_2: double, Power_Zone_3: double, Month: bigint, Hour: bigint, Month_ind: vector]"
      ]
     },
     "execution_count": 8,
     "metadata": {},
     "output_type": "execute_result"
    }
   ],
   "source": [
    "from pyspark.ml.feature import OneHotEncoder, SQLTransformer, Binarizer, VectorAssembler\n",
    "onehot = OneHotEncoder(inputCol = \"Month\", outputCol = \"Month_ind\")\n",
    "onehotTrans = onehot.fit(power_ml)\n",
    "onehotTrans.transform(power_ml)"
   ]
  },
  {
   "cell_type": "markdown",
   "id": "f3d0697e-c9a0-428b-9106-aaf177c9b1ad",
   "metadata": {},
   "source": [
    "Binarize the Hour column by 6.5"
   ]
  },
  {
   "cell_type": "code",
   "execution_count": 11,
   "id": "adfdccb7-4fca-4334-98c1-0cb154433c1d",
   "metadata": {},
   "outputs": [
    {
     "data": {
      "text/plain": [
       "DataFrame[Temperature: double, Humidity: double, Wind_Speed: double, General_Diffuse_Flows: double, Diffuse_Flows: double, Power_Zone_1: double, Power_Zone_2: double, Power_Zone_3: double, Month: bigint, Hour: double, Month_ind: vector, Hour_ind: double]"
      ]
     },
     "execution_count": 11,
     "metadata": {},
     "output_type": "execute_result"
    }
   ],
   "source": [
    "binaryTrans = Binarizer(threshold = 6.5, inputCol = \"Hour\", outputCol = \"Hour_ind\")\n",
    "binaryTrans.transform(\n",
    "    onehotTrans.transform(power_ml))"
   ]
  },
  {
   "cell_type": "markdown",
   "id": "756bf741-11ab-4c86-b1ba-31ca55b9bcba",
   "metadata": {},
   "source": [
    "Put the predictors into features"
   ]
  },
  {
   "cell_type": "code",
   "execution_count": 12,
   "id": "334bb23f-de1f-4990-961e-4f0ce46cd0ff",
   "metadata": {},
   "outputs": [
    {
     "data": {
      "text/plain": [
       "DataFrame[Temperature: double, Humidity: double, Wind_Speed: double, General_Diffuse_Flows: double, Diffuse_Flows: double, Power_Zone_1: double, Power_Zone_2: double, Power_Zone_3: double, Month: bigint, Hour: double, Month_ind: vector, Hour_ind: double, features: vector]"
      ]
     },
     "execution_count": 12,
     "metadata": {},
     "output_type": "execute_result"
    }
   ],
   "source": [
    "assembler = VectorAssembler(inputCols = [\"Temperature\", \"Humidity\", \"Wind_Speed\", \"General_Diffuse_Flows\", \"Diffuse_Flows\"], outputCol = \"features\", handleInvalid = \"keep\")\n",
    "assembler.transform(\n",
    "    binaryTrans.transform(\n",
    "        onehotTrans.transform(power_ml)\n",
    "    )\n",
    ")"
   ]
  },
  {
   "cell_type": "markdown",
   "id": "c0d82e66-df59-4f3d-80c6-8a1caa26053b",
   "metadata": {},
   "source": [
    "PCA fit on the Temperature, Humidity, Wind_Speed, General_Diffuse_Flows and Diffuse_Flows columns"
   ]
  },
  {
   "cell_type": "code",
   "execution_count": 13,
   "id": "8c217375-afc0-49c7-bd6a-83cd4dc64b4e",
   "metadata": {},
   "outputs": [],
   "source": [
    "from pyspark.ml.feature import PCA\n",
    "pca = PCA(k = 4, inputCol = \"features\", outputCol = \"pcaFeatures\")\n",
    "pcaTrans = pca.fit(\n",
    "    assembler.transform(\n",
    "        binaryTrans.transform(\n",
    "            onehotTrans.transform(power_ml)\n",
    "        )\n",
    "    )\n",
    ")"
   ]
  },
  {
   "cell_type": "markdown",
   "id": "8de0fc74-a357-482b-bb12-bb197747497c",
   "metadata": {},
   "source": [
    "Select fitted PCA features, Hour_ind, Power_Zone_1, Power_Zone_2 and Month_ind as predictors"
   ]
  },
  {
   "cell_type": "code",
   "execution_count": 14,
   "id": "44b16514-d589-4a6d-8a0f-51f2206cf25c",
   "metadata": {},
   "outputs": [],
   "source": [
    "sqlTrans = SQLTransformer(\n",
    "    statement = \"\"\"\n",
    "                SELECT pcaFeatures, Hour_ind, Power_Zone_1, Power_Zone_2, Month_ind, Power_Zone_3 as label FROM __THIS__\n",
    "                \"\"\"\n",
    ")"
   ]
  },
  {
   "cell_type": "markdown",
   "id": "e4348935-e3a3-46c2-942e-d2ed73d7e268",
   "metadata": {},
   "source": [
    "Put all the predictors into features"
   ]
  },
  {
   "cell_type": "code",
   "execution_count": 15,
   "id": "bae8ec69-07cc-4ed7-a01d-dadc48ff0ebe",
   "metadata": {},
   "outputs": [],
   "source": [
    "assembler2 = VectorAssembler(inputCols = [\"pcaFeatures\", \"Hour_ind\", \"Power_Zone_1\", \"Power_Zone_2\", \"Month_ind\"], outputCol = \"features2\", handleInvalid = \"keep\")"
   ]
  },
  {
   "cell_type": "code",
   "execution_count": 16,
   "id": "8abe59b5-e5e6-4e94-97dd-fd20df5d0ba2",
   "metadata": {},
   "outputs": [
    {
     "name": "stdout",
     "output_type": "stream",
     "text": [
      "+--------------------+--------+------------+------------+--------------+-----------+--------------------+\n",
      "|         pcaFeatures|Hour_ind|Power_Zone_1|Power_Zone_2|     Month_ind|      label|           features2|\n",
      "+--------------------+--------+------------+------------+--------------+-----------+--------------------+\n",
      "|[1.79440486365694...|     0.0|  34055.6962| 16128.87538|(12,[1],[1.0])|20240.96386|(19,[0,1,2,3,5,6,...|\n",
      "|[1.80604083009822...|     0.0| 29814.68354| 19375.07599|(12,[1],[1.0])|20131.08434|(19,[0,1,2,3,5,6,...|\n",
      "|[1.81022976305638...|     0.0| 29128.10127| 19006.68693|(12,[1],[1.0])|19668.43373|(19,[0,1,2,3,5,6,...|\n",
      "|[1.79866765174087...|     0.0| 28228.86076| 18361.09422|(12,[1],[1.0])|18899.27711|(19,[0,1,2,3,5,6,...|\n",
      "|[1.86328720163796...|     0.0|  27335.6962| 17872.34043|(12,[1],[1.0])|18442.40964|(19,[0,1,2,3,5,6,...|\n",
      "|[1.87820674500460...|     0.0| 26624.81013| 17416.41337|(12,[1],[1.0])|18130.12048|(19,[0,1,2,3,5,6,...|\n",
      "|[1.91529298717954...|     0.0| 25998.98734| 16993.31307|(12,[1],[1.0])|17945.06024|(19,[0,1,2,3,5,6,...|\n",
      "|[1.92400540807028...|     0.0| 25446.07595| 16661.39818|(12,[1],[1.0])|17459.27711|(19,[0,1,2,3,5,6,...|\n",
      "|[1.89501930353027...|     0.0| 24777.72152| 16227.35562|(12,[1],[1.0])|17025.54217|(19,[0,1,2,3,5,6,...|\n",
      "|[1.88840748794691...|     0.0| 24279.49367| 15939.20973|(12,[1],[1.0])|16794.21687|(19,[0,1,2,3,5,6,...|\n",
      "+--------------------+--------+------------+------------+--------------+-----------+--------------------+\n",
      "only showing top 10 rows\n",
      "\n"
     ]
    }
   ],
   "source": [
    "lr_data = assembler2.transform(\n",
    "                sqlTrans.transform(\n",
    "                    pcaTrans.transform(\n",
    "                        assembler.transform(\n",
    "                            binaryTrans.transform(\n",
    "                                onehotTrans.transform(power_ml)\n",
    "                        )\n",
    "                    )\n",
    "                )\n",
    "        )\n",
    ")\n",
    "lr_data.show(10)"
   ]
  },
  {
   "cell_type": "markdown",
   "id": "d56443ba-c08a-40d5-b88d-7e4309bf5210",
   "metadata": {},
   "source": [
    "Configure a piepline"
   ]
  },
  {
   "cell_type": "code",
   "execution_count": 17,
   "id": "0e3f5ecc-e49a-4260-b96c-6a513cb04c0b",
   "metadata": {},
   "outputs": [],
   "source": [
    "from pyspark.ml.regression import LinearRegression\n",
    "en = LinearRegression(featuresCol = \"features2\", labelCol = \"label\", elasticNetParam = 0.5)"
   ]
  },
  {
   "cell_type": "code",
   "execution_count": 18,
   "id": "37eaf530-7666-421d-840a-14f6a3666426",
   "metadata": {},
   "outputs": [],
   "source": [
    "from pyspark.ml import Pipeline\n",
    "pipeline = Pipeline(stages = [onehotTrans, binaryTrans, assembler, pcaTrans, sqlTrans, assembler2, en])"
   ]
  },
  {
   "cell_type": "markdown",
   "id": "fb882820-1a75-4db0-bc62-c4436436d853",
   "metadata": {},
   "source": [
    "Create ParamGrid for cross validation"
   ]
  },
  {
   "cell_type": "code",
   "execution_count": 19,
   "id": "c08163c4-8411-4587-a592-04a468b11b92",
   "metadata": {},
   "outputs": [],
   "source": [
    "from pyspark.ml.tuning import CrossValidator, ParamGridBuilder\n",
    "paramGrid = ParamGridBuilder() \\\n",
    "    .addGrid(en.regParam, [0, 0.05, 0.1, 0.25, 0.5, 0.75, 0.9, 0.95, 0.98, 0.99, 1]) \\\n",
    "    .addGrid(en.elasticNetParam, [0, 0.05, 0.1, 0.25, 0.5, 0.75, 0.9, 0.95, 0.98, 0.99, 1]) \\\n",
    "    .build()"
   ]
  },
  {
   "cell_type": "code",
   "execution_count": 20,
   "id": "3d12599b-e124-45e1-9a64-c2eb13a707e4",
   "metadata": {},
   "outputs": [],
   "source": [
    "from pyspark.ml.evaluation import RegressionEvaluator\n",
    "crossval = CrossValidator(estimator = pipeline,\n",
    "                          estimatorParamMaps = paramGrid,\n",
    "                          evaluator = RegressionEvaluator(metricName = \"rmse\"),\n",
    "                          numFolds = 5) "
   ]
  },
  {
   "cell_type": "markdown",
   "id": "7edcc0ab-f04f-424c-aa50-b4876b065c6b",
   "metadata": {},
   "source": [
    "Fit the model"
   ]
  },
  {
   "cell_type": "code",
   "execution_count": 21,
   "id": "5c171636-111e-4025-a121-5426fec10d30",
   "metadata": {},
   "outputs": [],
   "source": [
    "cvModel = crossval.fit(power_ml)"
   ]
  },
  {
   "cell_type": "code",
   "execution_count": 22,
   "id": "31745edf-085a-4604-934c-0d5fddc5c6f4",
   "metadata": {},
   "outputs": [],
   "source": [
    "predsCV = cvModel.transform(power_ml)"
   ]
  },
  {
   "cell_type": "markdown",
   "id": "14825095-6869-4e40-b255-fa49d62b4d9e",
   "metadata": {},
   "source": [
    "Find the training set RMSE"
   ]
  },
  {
   "cell_type": "code",
   "execution_count": 23,
   "id": "644e1380-1aff-4c98-9f67-8b4b9708969f",
   "metadata": {},
   "outputs": [
    {
     "data": {
      "text/plain": [
       "2124.2926308738606"
      ]
     },
     "execution_count": 23,
     "metadata": {},
     "output_type": "execute_result"
    }
   ],
   "source": [
    "RegressionEvaluator().evaluate(cvModel.transform(power_ml))"
   ]
  },
  {
   "cell_type": "markdown",
   "id": "7b8318c3-2326-4b19-994c-464e0afe5e0c",
   "metadata": {},
   "source": [
    "Create a residual column"
   ]
  },
  {
   "cell_type": "code",
   "execution_count": 24,
   "id": "e33b1604-86f9-4de3-9b8d-646795a512ae",
   "metadata": {},
   "outputs": [
    {
     "name": "stdout",
     "output_type": "stream",
     "text": [
      "+-----------+------------------+------------------+\n",
      "|      label|        prediction|         residuals|\n",
      "+-----------+------------------+------------------+\n",
      "|20240.96386|20206.777266530193| 34.18659346980712|\n",
      "|20131.08434| 18021.43345775746| 2109.650882242542|\n",
      "|19668.43373|17568.233859829135|2100.1998701708653|\n",
      "|18899.27711|16948.979778817422|1950.2973311825772|\n",
      "|18442.40964|16347.521708381111|2094.8879316188904|\n",
      "+-----------+------------------+------------------+\n",
      "only showing top 5 rows\n",
      "\n"
     ]
    }
   ],
   "source": [
    "predsCV.withColumn(\"residuals\", predsCV.label - predsCV.prediction) \\\n",
    "       .select(\"label\", \"prediction\", \"residuals\") \\\n",
    "       .show(5)"
   ]
  },
  {
   "cell_type": "markdown",
   "id": "37f4279b-6543-4105-afdf-5bf4a1d612a2",
   "metadata": {},
   "source": [
    "## Streaming Part\n",
    "### Reading a Stream"
   ]
  },
  {
   "cell_type": "markdown",
   "id": "633e45aa-5164-4ef9-a94c-2e0c83631afc",
   "metadata": {},
   "source": [
    "Create spark session"
   ]
  },
  {
   "cell_type": "code",
   "execution_count": 29,
   "id": "5623d8fe-a6af-4652-bf94-aaaedbcf89cf",
   "metadata": {},
   "outputs": [],
   "source": [
    "from pyspark.sql import SparkSession\n",
    "spark = SparkSession.builder.getOrCreate()"
   ]
  },
  {
   "cell_type": "markdown",
   "id": "89bf3138-8d72-42a8-9611-d129e47c5e61",
   "metadata": {},
   "source": [
    "Setup the schema for the stream"
   ]
  },
  {
   "cell_type": "code",
   "execution_count": 25,
   "id": "04ff05ca-a0d0-408c-b1e0-04a61faf2150",
   "metadata": {},
   "outputs": [],
   "source": [
    "from pyspark.sql.types import StructType\n",
    "myschema = StructType() \\\n",
    "                .add(\"Temperature\", \"double\") \\\n",
    "                .add(\"Humidity\", \"double\") \\\n",
    "                .add(\"Wind_Speed\", \"double\") \\\n",
    "                .add(\"General_Diffuse_Flows\", \"double\") \\\n",
    "                .add(\"Diffuse_Flows\", \"double\") \\\n",
    "                .add(\"Power_Zone_1\", \"double\") \\\n",
    "                .add(\"Power_Zone_2\", \"double\") \\\n",
    "                .add(\"Power_Zone_3\", \"double\") \\\n",
    "                .add(\"Month\", \"double\") \\\n",
    "                .add(\"Hour\", \"double\")"
   ]
  },
  {
   "cell_type": "markdown",
   "id": "d968716c-4483-4a53-923f-40ced18b76ac",
   "metadata": {},
   "source": [
    "Read in a stream"
   ]
  },
  {
   "cell_type": "code",
   "execution_count": 38,
   "id": "b0bcda1f-9a58-4e26-8cb5-ad208ce5091b",
   "metadata": {},
   "outputs": [],
   "source": [
    "sourceStream = spark.readStream.schema(myschema).csv(\"csv_power\", header = True)"
   ]
  },
  {
   "cell_type": "markdown",
   "id": "3d747c79-f024-490d-93b6-bb12acafe658",
   "metadata": {},
   "source": [
    "### Transform/Aggregation Step"
   ]
  },
  {
   "cell_type": "markdown",
   "id": "211dd8c1-a5a2-4b67-9dbd-77ef0d68ab79",
   "metadata": {},
   "source": [
    "Use model transformer to obtain predictions and create a residual column"
   ]
  },
  {
   "cell_type": "code",
   "execution_count": 39,
   "id": "3566a6a4-ee70-49e1-aa24-709ba96a8ad5",
   "metadata": {},
   "outputs": [],
   "source": [
    "from pyspark.sql.functions import col\n",
    "residuals = cvModel.transform(sourceStream).withColumn(\"residuals\", col(\"label\") - col(\"prediction\"))\n",
    "modelDF = residuals.select(\"label\", \"prediction\", \"residuals\")"
   ]
  },
  {
   "cell_type": "markdown",
   "id": "3e67aace-6d1c-4200-8294-f06d38013cfb",
   "metadata": {},
   "source": [
    "Create pipeline2 to perform all the transformation"
   ]
  },
  {
   "cell_type": "code",
   "execution_count": 40,
   "id": "192181b4-023f-4b44-a0ff-75f16ce50bc0",
   "metadata": {},
   "outputs": [],
   "source": [
    "sqlTrans2 = SQLTransformer(\n",
    "    statement = \"\"\"\n",
    "                SELECT Temperature, Humidity, Wind_Speed, General_Diffuse_Flows, Diffuse_Flows, pcaFeatures, Hour_ind, Power_Zone_1, Power_Zone_2, Month_ind, Hour_ind, pcaFeatures, Power_Zone_3 as label FROM __THIS__\n",
    "                \"\"\"\n",
    ")"
   ]
  },
  {
   "cell_type": "code",
   "execution_count": 41,
   "id": "9a23ea8b-db63-4429-b1ff-825bdac84765",
   "metadata": {},
   "outputs": [],
   "source": [
    "assembler3 = VectorAssembler(inputCols = [\"pcaFeatures\", \"Hour_ind\", \"Power_Zone_1\", \"Power_Zone_2\", \"Month_ind\"], outputCol = \"features3\", handleInvalid = \"keep\")"
   ]
  },
  {
   "cell_type": "code",
   "execution_count": 42,
   "id": "70ec6b83-981e-4f53-b35e-d0b44b7c53db",
   "metadata": {},
   "outputs": [],
   "source": [
    "pipeline2 = Pipeline(stages = [onehotTrans, binaryTrans, assembler, pcaTrans, sqlTrans2, assembler3])"
   ]
  },
  {
   "cell_type": "markdown",
   "id": "88637fe8-03af-40c2-beac-9436829c482b",
   "metadata": {},
   "source": [
    "Create dataframe from the same stream using pipeline2"
   ]
  },
  {
   "cell_type": "code",
   "execution_count": 43,
   "id": "bbe3c339-a737-466d-8ed5-86195f5d21ca",
   "metadata": {},
   "outputs": [],
   "source": [
    "transDF = pipeline2.fit(sourceStream).transform(sourceStream)"
   ]
  },
  {
   "cell_type": "markdown",
   "id": "7e0baa7b-3d64-4872-9e2d-277b5043a3ef",
   "metadata": {},
   "source": [
    "### Writing Step\n",
    "Join two data frames together based on the label and write stream to the console using the append"
   ]
  },
  {
   "cell_type": "code",
   "execution_count": 58,
   "id": "195a6573-292a-4d91-86a3-5145c44c3f48",
   "metadata": {},
   "outputs": [],
   "source": [
    "joinquery = modelDF \\\n",
    "                .join(transDF, \"label\", \"inner\") \\\n",
    "                .writeStream.outputMode(\"append\") \\\n",
    "                .format(\"console\") \\\n",
    "                .start()"
   ]
  },
  {
   "cell_type": "code",
   "execution_count": 59,
   "id": "e2a09fbe-fdc9-4b66-bf56-92f70abbd92c",
   "metadata": {},
   "outputs": [],
   "source": [
    "joinquery.stop()"
   ]
  },
  {
   "cell_type": "markdown",
   "id": "b079695c-e30f-4f07-a2b8-583b42a6a7b0",
   "metadata": {},
   "source": [
    "Now we are ready to monitor the output! \n",
    "\n",
    "Simply copy everything from .py file to the console and check the terminal window. The demonstration of streaming analysis is shown as well."
   ]
  }
 ],
 "metadata": {
  "kernelspec": {
   "display_name": "Python 3 (ipykernel)",
   "language": "python",
   "name": "python3"
  },
  "language_info": {
   "codemirror_mode": {
    "name": "ipython",
    "version": 3
   },
   "file_extension": ".py",
   "mimetype": "text/x-python",
   "name": "python",
   "nbconvert_exporter": "python",
   "pygments_lexer": "ipython3",
   "version": "3.10.8"
  }
 },
 "nbformat": 4,
 "nbformat_minor": 5
}
